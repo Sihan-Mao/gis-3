{
 "cells": [
  {
   "cell_type": "markdown",
   "metadata": {},
   "source": [
    "## Introduction"
   ]
  },
  {
   "cell_type": "markdown",
   "metadata": {},
   "source": [
    "This tutorial introduces spaciotemporal data analysis of Beijing City Service Call data, \"*12345*\"."
   ]
  },
  {
   "cell_type": "markdown",
   "metadata": {},
   "source": [
    "Beijing 12345 Call is a non-emergency city services request and information inquiry service provided the City of Beijing. It is a Beijing version of 311 service call. \n",
    "\n",
    "The call dataset studied in this project is the 12345 data recorded from March 2017 to May 2018 in 2 large residential areas in the northern suburb of Beijing. The 2 large residential areas, Hui Long Guan and Tian Tong Yuan, consist of 7 neighborhoods and 132 communities."
   ]
  },
  {
   "cell_type": "markdown",
   "metadata": {},
   "source": [
    "The datasets used for the analysis are listed below,"
   ]
  },
  {
   "cell_type": "markdown",
   "metadata": {},
   "source": [
    "| Dataset | Format | Content |\n",
    "|---|---|---|\n",
    "| **callvillage** | csv | Service type; Timestamp; Location |\n",
    "| **village** | shp | Communities Polygons | \n",
    "| **town** | shp | Neighborhoods Polygons | "
   ]
  },
  {
   "cell_type": "markdown",
   "metadata": {},
   "source": [
    "## Setup"
   ]
  },
  {
   "cell_type": "code",
   "execution_count": 2,
   "metadata": {},
   "outputs": [],
   "source": [
    "# import packages\n",
    "library(sf)          \n",
    "library(spData)\n",
    "library(spDataLarge)\n",
    "library(dplyr)\n",
    "library(tidyverse)\n",
    "library(stringr)\n",
    "library(rgeos)\n",
    "library(rgdal)\n",
    "library(lubridate)\n",
    "library(tmap)"
   ]
  },
  {
   "cell_type": "code",
   "execution_count": 3,
   "metadata": {},
   "outputs": [],
   "source": [
    "# setup working directory\n",
    "setwd(\"D:/Auguste/Projects/UrbanXYZ/working_data\")"
   ]
  },
  {
   "cell_type": "code",
   "execution_count": 4,
   "metadata": {},
   "outputs": [
    {
     "name": "stdout",
     "output_type": "stream",
     "text": [
      "Reading layer `Join_Output' from data source `D:\\Auguste\\Projects\\UrbanXYZ\\working_data\\Join_Output.shp' using driver `ESRI Shapefile'\n",
      "Simple feature collection with 20109 features and 40 fields\n",
      "geometry type:  POINT\n",
      "dimension:      XY\n",
      "bbox:           xmin: 116.26 ymin: 40.03734 xmax: 116.4391 ymax: 40.11632\n",
      "epsg (SRID):    4326\n",
      "proj4string:    +proj=longlat +datum=WGS84 +no_defs\n",
      "Reading layer `huitian_village_190319' from data source `D:\\Auguste\\Projects\\UrbanXYZ\\working_data\\huitian_village_190319.shp' using driver `ESRI Shapefile'\n",
      "Simple feature collection with 132 features and 16 fields\n",
      "geometry type:  MULTIPOLYGON\n",
      "dimension:      XY\n",
      "bbox:           xmin: 116.2514 ymin: 40.03632 xmax: 116.4398 ymax: 40.11748\n",
      "epsg (SRID):    4326\n",
      "proj4string:    +proj=longlat +datum=WGS84 +no_defs\n",
      "Reading layer `huitian_town_190319' from data source `D:\\Auguste\\Projects\\UrbanXYZ\\working_data\\huitian_town_190319.shp' using driver `ESRI Shapefile'\n",
      "Simple feature collection with 7 features and 16 fields\n",
      "geometry type:  POLYGON\n",
      "dimension:      XY\n",
      "bbox:           xmin: 116.2522 ymin: 40.03551 xmax: 116.4418 ymax: 40.11906\n",
      "epsg (SRID):    4326\n",
      "proj4string:    +proj=longlat +datum=WGS84 +no_defs\n"
     ]
    }
   ],
   "source": [
    "# read in call data with village ID as sf\n",
    "callvillage <- read_sf('Join_Output.shp', quiet = FALSE)\n",
    "\n",
    "# read in village boundaries \n",
    "village <- read_sf('huitian_village_190319.shp', quiet = FALSE)\n",
    "\n",
    "# read in town boudaries\n",
    "town <- read_sf('huitian_town_190319.shp', quiet = FALSE)"
   ]
  },
  {
   "cell_type": "code",
   "execution_count": 5,
   "metadata": {},
   "outputs": [],
   "source": [
    "# extract id, location, time, name columns from raw 12345 dataset\n",
    "callvillage_clean <- callvillage %>%\n",
    "  dplyr::select(FID_1, id_town,nm_town_2, id_ori, type_1, lng, lat, time, month, area)\n",
    "\n",
    "callvillage_df <- callvillage_clean %>%\n",
    "  st_drop_geometry() %>% # remove geom column for df wrangling\n",
    "  mutate(\n",
    "    time = ymd_hms(time), # convert string to lubridate POSIXt time object \n",
    "    date = date(time), # extract date without time \n",
    "    hour = hour(time), # hour in a day\n",
    "    wday = wday(time, label = TRUE), # day in a week as ordered factor\n",
    "    mday = mday(time) # day in a month\n",
    "  )"
   ]
  },
  {
   "cell_type": "markdown",
   "metadata": {},
   "source": [
    "## Exploratory Data Analysis"
   ]
  },
  {
   "cell_type": "markdown",
   "metadata": {},
   "source": [
    "The basic time spans of this analysis are **Day**, **Week** and **Month**. Meanwhile, time units could be hours in a day (morning, afternoon, evening and night) or categories like weekdays and weeekend. The spatial levels are **communities** and **neighborhoods**.\n",
    "\n",
    "Section 1 of the analysis explores the fluctuations of total number of calls in different time spans. Section 2 studies the spaciotemporal patterns of absolute amount and percentage of calls in different time spans at community level. Section 3 introduces types of service requests into the analysis by comparing their distributions in different time spans and spatial levels."
   ]
  },
  {
   "cell_type": "markdown",
   "metadata": {},
   "source": [
    "### Data Overview"
   ]
  },
  {
   "cell_type": "code",
   "execution_count": 8,
   "metadata": {},
   "outputs": [
    {
     "data": {
      "text/html": [
       "<table>\n",
       "<thead><tr><th scope=col>month</th><th scope=col>call_num</th></tr></thead>\n",
       "<tbody>\n",
       "\t<tr><td>2017-03</td><td>   1   </td></tr>\n",
       "\t<tr><td>2017-04</td><td>  21   </td></tr>\n",
       "\t<tr><td>2017-05</td><td>1548   </td></tr>\n",
       "\t<tr><td>2017-06</td><td>1820   </td></tr>\n",
       "\t<tr><td>2017-07</td><td>1712   </td></tr>\n",
       "\t<tr><td>2017-08</td><td>1995   </td></tr>\n",
       "\t<tr><td>2017-09</td><td>1689   </td></tr>\n",
       "\t<tr><td>2017-10</td><td>1267   </td></tr>\n",
       "\t<tr><td>2017-11</td><td>2023   </td></tr>\n",
       "\t<tr><td>2017-12</td><td>1687   </td></tr>\n",
       "\t<tr><td>2018-01</td><td>1164   </td></tr>\n",
       "\t<tr><td>2018-02</td><td> 655   </td></tr>\n",
       "\t<tr><td>2018-03</td><td>1415   </td></tr>\n",
       "\t<tr><td>2018-04</td><td>1466   </td></tr>\n",
       "\t<tr><td>2018-05</td><td>1646   </td></tr>\n",
       "</tbody>\n",
       "</table>\n"
      ],
      "text/latex": [
       "\\begin{tabular}{r|ll}\n",
       " month & call\\_num\\\\\n",
       "\\hline\n",
       "\t 2017-03 &    1   \\\\\n",
       "\t 2017-04 &   21   \\\\\n",
       "\t 2017-05 & 1548   \\\\\n",
       "\t 2017-06 & 1820   \\\\\n",
       "\t 2017-07 & 1712   \\\\\n",
       "\t 2017-08 & 1995   \\\\\n",
       "\t 2017-09 & 1689   \\\\\n",
       "\t 2017-10 & 1267   \\\\\n",
       "\t 2017-11 & 2023   \\\\\n",
       "\t 2017-12 & 1687   \\\\\n",
       "\t 2018-01 & 1164   \\\\\n",
       "\t 2018-02 &  655   \\\\\n",
       "\t 2018-03 & 1415   \\\\\n",
       "\t 2018-04 & 1466   \\\\\n",
       "\t 2018-05 & 1646   \\\\\n",
       "\\end{tabular}\n"
      ],
      "text/markdown": [
       "\n",
       "| month | call_num |\n",
       "|---|---|\n",
       "| 2017-03 |    1    |\n",
       "| 2017-04 |   21    |\n",
       "| 2017-05 | 1548    |\n",
       "| 2017-06 | 1820    |\n",
       "| 2017-07 | 1712    |\n",
       "| 2017-08 | 1995    |\n",
       "| 2017-09 | 1689    |\n",
       "| 2017-10 | 1267    |\n",
       "| 2017-11 | 2023    |\n",
       "| 2017-12 | 1687    |\n",
       "| 2018-01 | 1164    |\n",
       "| 2018-02 |  655    |\n",
       "| 2018-03 | 1415    |\n",
       "| 2018-04 | 1466    |\n",
       "| 2018-05 | 1646    |\n",
       "\n"
      ],
      "text/plain": [
       "   month   call_num\n",
       "1  2017-03    1    \n",
       "2  2017-04   21    \n",
       "3  2017-05 1548    \n",
       "4  2017-06 1820    \n",
       "5  2017-07 1712    \n",
       "6  2017-08 1995    \n",
       "7  2017-09 1689    \n",
       "8  2017-10 1267    \n",
       "9  2017-11 2023    \n",
       "10 2017-12 1687    \n",
       "11 2018-01 1164    \n",
       "12 2018-02  655    \n",
       "13 2018-03 1415    \n",
       "14 2018-04 1466    \n",
       "15 2018-05 1646    "
      ]
     },
     "metadata": {},
     "output_type": "display_data"
    }
   ],
   "source": [
    "# calls in months\n",
    "callvillage_df %>%\n",
    "  group_by(month) %>%\n",
    "  summarise(call_num = n())"
   ]
  },
  {
   "cell_type": "markdown",
   "metadata": {},
   "source": [
    "20109 calls were recorded from March 2017 to May 2018 in 410 days, 59 weeks and 15 months. Daily average is 49. Monthly average is 1340. \n",
    "\n",
    "March and April of 2017 have only 22 observations, which is significantly lower than the monthly average of 1340 service calls.  The following analysis ignore these 2 months as outliers for convenience. "
   ]
  },
  {
   "cell_type": "code",
   "execution_count": 9,
   "metadata": {},
   "outputs": [],
   "source": [
    "# March and April 2017 are negligible.\n",
    "callvillage_month <- callvillage_df %>% \n",
    "  dplyr::filter(month != \"2017-03\" & month != \"2017-04\") # remove obs in March and April 2017"
   ]
  },
  {
   "cell_type": "code",
   "execution_count": 10,
   "metadata": {},
   "outputs": [
    {
     "data": {
      "text/html": [
       "<table>\n",
       "<thead><tr><th scope=col>date</th><th scope=col>call_num</th></tr></thead>\n",
       "<tbody>\n",
       "\t<tr><td>2017-08-15</td><td>485       </td></tr>\n",
       "\t<tr><td>2018-02-15</td><td>  2       </td></tr>\n",
       "\t<tr><td>2018-02-16</td><td>  2       </td></tr>\n",
       "\t<tr><td>2018-02-19</td><td>  2       </td></tr>\n",
       "</tbody>\n",
       "</table>\n"
      ],
      "text/latex": [
       "\\begin{tabular}{r|ll}\n",
       " date & call\\_num\\\\\n",
       "\\hline\n",
       "\t 2017-08-15 & 485       \\\\\n",
       "\t 2018-02-15 &   2       \\\\\n",
       "\t 2018-02-16 &   2       \\\\\n",
       "\t 2018-02-19 &   2       \\\\\n",
       "\\end{tabular}\n"
      ],
      "text/markdown": [
       "\n",
       "| date | call_num |\n",
       "|---|---|\n",
       "| 2017-08-15 | 485        |\n",
       "| 2018-02-15 |   2        |\n",
       "| 2018-02-16 |   2        |\n",
       "| 2018-02-19 |   2        |\n",
       "\n"
      ],
      "text/plain": [
       "  date       call_num\n",
       "1 2017-08-15 485     \n",
       "2 2018-02-15   2     \n",
       "3 2018-02-16   2     \n",
       "4 2018-02-19   2     "
      ]
     },
     "metadata": {},
     "output_type": "display_data"
    }
   ],
   "source": [
    "top_bottom <- callvillage_month %>%\n",
    "  group_by(date) %>%\n",
    "  summarise(call_num = n()) %>%\n",
    "  arrange(desc(call_num))\n",
    "\n",
    "top_bottom[c(1,394:396),]"
   ]
  },
  {
   "cell_type": "markdown",
   "metadata": {},
   "source": [
    "The highest number of call in a day is August 15, 2017 with 485 records. The date will be studied as a random shock event later in the analysis. "
   ]
  },
  {
   "cell_type": "markdown",
   "metadata": {},
   "source": [
    "### Section 1: fluctuations in time spans"
   ]
  },
  {
   "cell_type": "markdown",
   "metadata": {},
   "source": [
    "Day\n",
    "-  fluctuates around daily average of 50\n",
    "-  clear cyclical behavior (7-8 days)\n",
    "-  3 peaks at June 2017, December 2017 and May 2018. "
   ]
  },
  {
   "cell_type": "code",
   "execution_count": 11,
   "metadata": {},
   "outputs": [
    {
     "data": {
      "image/png": "[encoded data removed]",
      "text/plain": [
       "plot without title"
      ]
     },
     "metadata": {},
     "output_type": "display_data"
    }
   ],
   "source": [
    "# Time Span: Day\n",
    "callvillage_month %>%\n",
    "  count(day = floor_date(time, \"day\")) %>%\n",
    "  ggplot(aes(day, n)) + geom_line()"
   ]
  },
  {
   "cell_type": "markdown",
   "metadata": {},
   "source": [
    "Week \n",
    "-  random walk like curve\n",
    "-  peaks appeared close to daily fluctuation\n",
    "-  August 2017 rises because of August $15^{th}$"
   ]
  },
  {
   "cell_type": "code",
   "execution_count": 12,
   "metadata": {},
   "outputs": [
    {
     "data": {
      "image/png": "[encoded data removed]",
      "text/plain": [
       "plot without title"
      ]
     },
     "metadata": {},
     "output_type": "display_data"
    }
   ],
   "source": [
    "# Time Span: Week\n",
    "callvillage_month %>%\n",
    "  count(week = floor_date(time, \"week\")) %>%\n",
    "  ggplot(aes(week, n)) + geom_line()"
   ]
  },
  {
   "cell_type": "markdown",
   "metadata": {},
   "source": [
    "Month\n",
    "-  A significant 6-month cycle"
   ]
  },
  {
   "cell_type": "code",
   "execution_count": 13,
   "metadata": {},
   "outputs": [
    {
     "data": {
      "image/png": "[encoded data removed]",
      "text/plain": [
       "plot without title"
      ]
     },
     "metadata": {},
     "output_type": "display_data"
    }
   ],
   "source": [
    "# Time Span: Month\n",
    "callvillage_month %>%\n",
    "  count(month = floor_date(time, \"month\")) %>%\n",
    "  ggplot(aes(month, n)) + geom_line()"
   ]
  }
 ],
 "metadata": {
  "kernelspec": {
   "display_name": "R 3.4",
   "language": "R",
   "name": "ir33"
  },
  "language_info": {
   "codemirror_mode": "r",
   "file_extension": ".r",
   "mimetype": "text/x-r-source",
   "name": "R",
   "pygments_lexer": "r",
   "version": "3.4.4"
  }
 },
 "nbformat": 4,
 "nbformat_minor": 2
}
