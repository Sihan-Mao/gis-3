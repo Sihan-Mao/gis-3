{
 "cells": [
  {
   "cell_type": "markdown",
   "metadata": {},
   "source": [
    "## Recreating centroid function in R \n",
    "\n",
    "*Sihan version*"
   ]
  },
  {
   "cell_type": "markdown",
   "metadata": {},
   "source": [
    "- Aim: take a matrix representing a convex polygon, return its centroid\n",
    "- demonstrate how algorithms work"
   ]
  },
  {
   "cell_type": "markdown",
   "metadata": {},
   "source": [
    "code reference: *https://github.com/Robinlovelace/geocompr/blob/master/code/10-centroid-alg.R*"
   ]
  },
  {
   "cell_type": "code",
   "execution_count": 192,
   "metadata": {},
   "outputs": [],
   "source": [
    "import pandas as pd\n",
    "import geopandas as gpd\n",
    "import matplotlib.pyplot as plt\n",
    "import numpy as np\n",
    "import itertools"
   ]
  },
  {
   "cell_type": "code",
   "execution_count": 3,
   "metadata": {},
   "outputs": [],
   "source": [
    "poly_a = np.array( [0 ,0 ,9 ,9, 0, 0, 9, 9, 0, 0] )"
   ]
  },
  {
   "cell_type": "code",
   "execution_count": 16,
   "metadata": {},
   "outputs": [],
   "source": [
    "shape = ( 2, 5 )\n",
    "poly_m = poly_a.reshape( shape )"
   ]
  },
  {
   "cell_type": "markdown",
   "metadata": {},
   "source": [
    "### Step 1: create sub-triangles, set-up"
   ]
  },
  {
   "cell_type": "markdown",
   "metadata": {},
   "source": [
    "create a point representing the origin"
   ]
  },
  {
   "cell_type": "code",
   "execution_count": 5,
   "metadata": {},
   "outputs": [],
   "source": [
    "origin = poly_m[:,0]"
   ]
  },
  {
   "cell_type": "code",
   "execution_count": 119,
   "metadata": {},
   "outputs": [],
   "source": [
    "i = np.arange(2, (poly_m.shape[1]-1), 1)"
   ]
  },
  {
   "cell_type": "code",
   "execution_count": 125,
   "metadata": {},
   "outputs": [],
   "source": [
    "T_all = []\n",
    "for x in i:\n",
    "    trg = []\n",
    "    trg = [origin.tolist(), poly_m[:,x-1].tolist(), poly_m[:,x].tolist(), origin.tolist()]\n",
    "    T_all.append(trg)"
   ]
  },
  {
   "cell_type": "markdown",
   "metadata": {},
   "source": [
    "### Step 2: calculate triangle centroids "
   ]
  },
  {
   "cell_type": "code",
   "execution_count": 131,
   "metadata": {},
   "outputs": [],
   "source": [
    "def centroid(trg):\n",
    "    x = 0\n",
    "    y = 0\n",
    "    for i in trg:\n",
    "        x = i[0] + x\n",
    "        y = i[1] + y\n",
    "    ct = [x/3, y/3]\n",
    "    return ct"
   ]
  },
  {
   "cell_type": "code",
   "execution_count": 141,
   "metadata": {},
   "outputs": [],
   "source": [
    "c =list(map(lambda x:centroid(x), T_all))"
   ]
  },
  {
   "cell_type": "markdown",
   "metadata": {},
   "source": [
    "### Step 3: calculate triangle areas"
   ]
  },
  {
   "cell_type": "code",
   "execution_count": 161,
   "metadata": {},
   "outputs": [],
   "source": [
    "def area(trg):\n",
    "    a = abs((trg[0][0] * (trg[1][1] - tr1[2][1]) + trg[1][0] * (trg[2][1] - trg[0][1]) + trg[2][0] * (trg[0][1] - trg[1][1]))/2)\n",
    "    return a"
   ]
  },
  {
   "cell_type": "code",
   "execution_count": 163,
   "metadata": {},
   "outputs": [],
   "source": [
    "area =list(map(lambda x:area(x), T_all))"
   ]
  },
  {
   "cell_type": "markdown",
   "metadata": {},
   "source": [
    "### Step 4: calculate area-weighted centroid average"
   ]
  },
  {
   "cell_type": "code",
   "execution_count": 167,
   "metadata": {},
   "outputs": [],
   "source": [
    "poly_area = sum(area)"
   ]
  },
  {
   "cell_type": "code",
   "execution_count": 168,
   "metadata": {},
   "outputs": [
    {
     "name": "stdout",
     "output_type": "stream",
     "text": [
      "The area is 81.0\n"
     ]
    }
   ],
   "source": [
    "print(\"The area is\", poly_area)"
   ]
  },
  {
   "cell_type": "code",
   "execution_count": 178,
   "metadata": {},
   "outputs": [],
   "source": [
    "def weighted_mean(c, area): \n",
    "    x = 0\n",
    "    y = 0\n",
    "    for g in range(len(area)):\n",
    "        x_weighted = c[g][0] * area[g] / sum(area)\n",
    "        y_weighted = c[g][1] * area[g] / sum(area)\n",
    "        x = x + x_weighted\n",
    "        y = y + y_weighted\n",
    "    ct_coor = [x, y]\n",
    "    return ct_coor"
   ]
  },
  {
   "cell_type": "code",
   "execution_count": 181,
   "metadata": {},
   "outputs": [],
   "source": [
    "poly_centroid = weighted_mean(c, area)"
   ]
  },
  {
   "cell_type": "markdown",
   "metadata": {},
   "source": [
    "### Step 5: output results"
   ]
  },
  {
   "cell_type": "code",
   "execution_count": 188,
   "metadata": {},
   "outputs": [
    {
     "name": "stdout",
     "output_type": "stream",
     "text": [
      "The coordinates of the centroid are:  4.5 4.5\n"
     ]
    }
   ],
   "source": [
    "print(\n",
    "  \"The coordinates of the centroid are: \",\n",
    "  round(poly_centroid[0], 2),\n",
    "  round(poly_centroid[1], 2)\n",
    ")"
   ]
  }
 ],
 "metadata": {
  "kernelspec": {
   "display_name": "Python 3",
   "language": "python",
   "name": "python3"
  },
  "language_info": {
   "codemirror_mode": {
    "name": "ipython",
    "version": 3
   },
   "file_extension": ".py",
   "mimetype": "text/x-python",
   "name": "python",
   "nbconvert_exporter": "python",
   "pygments_lexer": "ipython3",
   "version": "3.7.1"
  }
 },
 "nbformat": 4,
 "nbformat_minor": 2
}
