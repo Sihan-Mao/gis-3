{
 "cells": [
  {
   "cell_type": "markdown",
   "metadata": {},
   "source": [
    "# Design local geary c function in R"
   ]
  },
  {
   "cell_type": "markdown",
   "metadata": {},
   "source": [
    "Author: *Ali Syed* and *Sihan Mao*"
   ]
  },
  {
   "cell_type": "markdown",
   "metadata": {},
   "source": [
    "## 1. Setup"
   ]
  },
  {
   "cell_type": "code",
   "execution_count": 16,
   "metadata": {},
   "outputs": [],
   "source": [
    "# try airbnb data for local moran and local geary comparison\n",
    "# import packages\n",
    "library(sf)          \n",
    "library(spdep)\n",
    "library(dplyr)\n",
    "library(tidyverse)\n",
    "library(stringr)\n",
    "library(rgeos)\n",
    "library(rgdal)\n",
    "library(lubridate)\n",
    "library(tmap)"
   ]
  },
  {
   "cell_type": "code",
   "execution_count": 4,
   "metadata": {},
   "outputs": [],
   "source": [
    "#set the working directory \n",
    "setwd(\"D:/Auguste/UChicago/2018-2019/2019spring/GIS III//final project//airbnb\")"
   ]
  },
  {
   "cell_type": "markdown",
   "metadata": {},
   "source": [
    "Sample data: Chicago Airbnb data in 2015"
   ]
  },
  {
   "cell_type": "code",
   "execution_count": 5,
   "metadata": {},
   "outputs": [
    {
     "name": "stdout",
     "output_type": "stream",
     "text": [
      "Reading layer `airbnb_Chicago 2015' from data source `D:\\Auguste\\UChicago\\2018-2019\\2019spring\\GIS III\\final project\\airbnb\\airbnb_Chicago 2015.shp' using driver `ESRI Shapefile'\n",
      "Simple feature collection with 77 features and 20 fields\n",
      "geometry type:  MULTIPOLYGON\n",
      "dimension:      XY\n",
      "bbox:           xmin: -87.94011 ymin: 41.64454 xmax: -87.52414 ymax: 42.02304\n",
      "epsg (SRID):    4326\n",
      "proj4string:    +proj=longlat +datum=WGS84 +no_defs\n"
     ]
    }
   ],
   "source": [
    "airbnb <- read_sf('airbnb_Chicago 2015.shp', quiet = FALSE)"
   ]
  },
  {
   "cell_type": "markdown",
   "metadata": {},
   "source": [
    "### 1.1 Sample Data Introduction"
   ]
  },
  {
   "cell_type": "markdown",
   "metadata": {},
   "source": [
    "**Dataset Description**: The dataset is the test dataset of tutorial for calculating local Geary c in R. The test requires a continuous variable as the attribute of polygons. The dataset includes Airbnb rents and boundaries of community areas in Chicago."
   ]
  },
  {
   "cell_type": "markdown",
   "metadata": {},
   "source": [
    "**Type**: Polygon shapefile; Observations: 77; Variables: 3 "
   ]
  },
  {
   "cell_type": "markdown",
   "metadata": {},
   "source": [
    "**Variables to be included**: \n",
    "\n",
    "- *community* - name of community area \n",
    "- *AREAID* – ID number associated with community area \n",
    "- *price_pp* – price per person of Airbnb"
   ]
  },
  {
   "cell_type": "markdown",
   "metadata": {},
   "source": [
    "**Source**: \n",
    "\n",
    "1): GeoDa Center (https://geodacenter.github.io/data-and-lab//airbnb_Chicago-2015/), based on data from Chicago Data Portal (https://data.cityofchicago.org/);\n",
    "\n",
    "2): Inside Airbnb (http://insideairbnb.com/get-the-data.html). \n"
   ]
  },
  {
   "cell_type": "markdown",
   "metadata": {},
   "source": [
    "## 2. Create neighbors and weights"
   ]
  },
  {
   "cell_type": "code",
   "execution_count": 6,
   "metadata": {},
   "outputs": [
    {
     "data": {
      "text/plain": [
       "Neighbour list object:\n",
       "Number of regions: 77 \n",
       "Number of nonzero links: 370 \n",
       "Percentage nonzero weights: 6.240513 \n",
       "Average number of links: 4.805195 "
      ]
     },
     "metadata": {},
     "output_type": "display_data"
    }
   ],
   "source": [
    "# Calculate neighbours\n",
    "nb2 <- poly2nb(airbnb, queen = FALSE)\n",
    "nb2\n",
    "\n",
    "listw2 <- nb2listw(nb2)\n",
    "\n",
    "local2 <- localmoran(x = airbnb$income_pc, listw = nb2listw(nb2, style = \"W\"))"
   ]
  },
  {
   "cell_type": "markdown",
   "metadata": {},
   "source": [
    "## 3. Local Geary C "
   ]
  },
  {
   "cell_type": "markdown",
   "metadata": {},
   "source": [
    "Calculate global geary c from local geary c"
   ]
  },
  {
   "cell_type": "markdown",
   "metadata": {},
   "source": [
    "- Local Geary c:"
   ]
  },
  {
   "cell_type": "markdown",
   "metadata": {},
   "source": [
    "$$LG_i = \\sum_{j=1}^{n}w_{ij}(x_i-x_j)^2$$"
   ]
  },
  {
   "cell_type": "markdown",
   "metadata": {},
   "source": [
    "### 3.1 Calculate local Geary c"
   ]
  },
  {
   "cell_type": "code",
   "execution_count": 9,
   "metadata": {},
   "outputs": [
    {
     "data": {
      "text/plain": [
       "     Min.   1st Qu.    Median      Mean   3rd Qu.      Max. \n",
       "4.910e+06 3.689e+07 8.253e+07 1.726e+08 1.993e+08 1.208e+09 "
      ]
     },
     "metadata": {},
     "output_type": "display_data"
    }
   ],
   "source": [
    "## create an empty vector for local geary c\n",
    "ci2 = vector(\"double\")\n",
    "\n",
    "## calculate local geary c \n",
    "for (i in 1:(length(airbnb$income_pc))) {\n",
    "  ci2[i] = sum((airbnb$income_pc[i] - airbnb$income_pc[nb2[[i]]])^2)/length(nb2[[i]])\n",
    "}\n",
    "\n",
    "summary(ci2)"
   ]
  },
  {
   "cell_type": "markdown",
   "metadata": {},
   "source": [
    "**ci2** is the local geary c statistic created for each polygon."
   ]
  },
  {
   "cell_type": "markdown",
   "metadata": {},
   "source": [
    "### 3.2 Visualize local Geary c"
   ]
  },
  {
   "cell_type": "code",
   "execution_count": 15,
   "metadata": {},
   "outputs": [
    {
     "data": {
      "image/png": "[encoded data removed]",
      "text/plain": [
       "plot without title"
      ]
     },
     "metadata": {},
     "output_type": "display_data"
    }
   ],
   "source": [
    "gearymap <- cbind(airbnb, ci2)\n",
    "tm_shape(gearymap) + tm_fill(col = \"ci2\", style = \"quantile\", title = \"local geary statistic\")"
   ]
  },
  {
   "cell_type": "markdown",
   "metadata": {},
   "source": [
    "### 3.3 Verify local Gear c with global Geary"
   ]
  },
  {
   "cell_type": "markdown",
   "metadata": {},
   "source": [
    "- Global Geary c: "
   ]
  },
  {
   "cell_type": "markdown",
   "metadata": {},
   "source": [
    "$$C = \\frac{(n-1)}{2\\sum_{i=1}^{n}\\sum_{j=1}^{n}w_{ij}} \\frac{\\sum_{i=1}^{n}\\sum_{j=1}^{n}w_{ij}(x_i-x_j)^2}{\\sum_{i=1}^{n}(x_i - \\bar{x})^2}$$"
   ]
  },
  {
   "cell_type": "code",
   "execution_count": 22,
   "metadata": {},
   "outputs": [
    {
     "data": {
      "text/html": [
       "0.369053984092251"
      ],
      "text/latex": [
       "0.369053984092251"
      ],
      "text/markdown": [
       "0.369053984092251"
      ],
      "text/plain": [
       "[1] 0.369054"
      ]
     },
     "metadata": {},
     "output_type": "display_data"
    }
   ],
   "source": [
    "## calculate global geary c\n",
    "sum(ci2)/(var(airbnb$income_pc)*2*77)"
   ]
  },
  {
   "cell_type": "markdown",
   "metadata": {},
   "source": [
    "Compare with global geary c from function geary.test"
   ]
  },
  {
   "cell_type": "code",
   "execution_count": 28,
   "metadata": {},
   "outputs": [
    {
     "data": {
      "text/plain": [
       "\n",
       "\tGeary C test under randomisation\n",
       "\n",
       "data:  airbnb$income_pc \n",
       "weights: listw2 \n",
       "\n",
       "Geary C statistic standard deviate = 7.4298, p-value = 5.439e-14\n",
       "alternative hypothesis: Expectation greater than statistic\n",
       "sample estimates:\n",
       "Geary C statistic       Expectation          Variance \n",
       "      0.369053984       1.000000000       0.007211626 \n"
      ]
     },
     "metadata": {},
     "output_type": "display_data"
    }
   ],
   "source": [
    "# compare with geary c function\n",
    "geary.test(airbnb$income_pc,listw2)"
   ]
  },
  {
   "cell_type": "markdown",
   "metadata": {},
   "source": [
    "Manually calculated global geary c is consistent with the result from geary test function, which indicates that the computed local geary c is correct. "
   ]
  },
  {
   "cell_type": "markdown",
   "metadata": {},
   "source": [
    "## 4. Permutation and Significance"
   ]
  },
  {
   "cell_type": "markdown",
   "metadata": {},
   "source": [
    "Calculating local Geary c is not the last step of spatial autocorrelation analysis. *\"An important methodological issue associated with the local spatial autocorrelation statistics is the selection of the p-value cut-off to properly reflect the desired Type I error.\"*$^1$"
   ]
  },
  {
   "cell_type": "markdown",
   "metadata": {},
   "source": [
    "Permutation is required to simulate spatial randomness in order to generate plausible p-values for local Gear c statistics. [ADD EXPLANATION]"
   ]
  },
  {
   "cell_type": "markdown",
   "metadata": {},
   "source": [
    "### 4.1 Conditional Permutations"
   ]
  },
  {
   "cell_type": "markdown",
   "metadata": {},
   "source": [
    "*Still working on creating permutation functions from python community*"
   ]
  },
  {
   "cell_type": "markdown",
   "metadata": {},
   "source": [
    "### 4.2 Global Moran's I"
   ]
  },
  {
   "cell_type": "code",
   "execution_count": 24,
   "metadata": {},
   "outputs": [
    {
     "name": "stderr",
     "output_type": "stream",
     "text": [
      "Variable \"Ii\" contains positive and negative values, so midpoint is set to 0. Set midpoint = NA to show the full spectrum of the color palette.\n"
     ]
    },
    {
     "data": {
      "image/png": "[encoded data removed]",
      "text/plain": [
       "plot without title"
      ]
     },
     "metadata": {},
     "output_type": "display_data"
    },
    {
     "data": {
      "text/plain": [
       "    Min.  1st Qu.   Median     Mean  3rd Qu.     Max. \n",
       "-0.03013 -0.03013 -0.03013 -0.03013 -0.03013 -0.03013 "
      ]
     },
     "metadata": {},
     "output_type": "display_data"
    },
    {
     "data": {
      "image/png": "[encoded data removed]",
      "text/plain": [
       "plot without title"
      ]
     },
     "metadata": {},
     "output_type": "display_data"
    }
   ],
   "source": [
    "moranmap <- cbind(airbnb, local2)\n",
    "tm_shape(moranmap) + tm_fill(col = \"Ii\", style = \"quantile\", title = \"local moran statistic\")\n",
    "\n",
    "moran <- moran.plot(airbnb$income_pc, listw = nb2listw(nb2, style = \"W\"))\n",
    "summary(local2[1])"
   ]
  },
  {
   "cell_type": "markdown",
   "metadata": {},
   "source": [
    "#### 4.3 LISA map with significance "
   ]
  },
  {
   "cell_type": "code",
   "execution_count": null,
   "metadata": {},
   "outputs": [],
   "source": [
    "### create LISA map with significance \n",
    "### to create LISA cluster map ### \n",
    "quadrant <- vector(mode=\"numeric\",length=nrow(local))\n",
    "\n",
    "# centers the variable of interest around its mean\n",
    "mean_income <- airbnb$income_pc - mean(airbnb$income_pc)     \n",
    "\n",
    "# centers the local Moran's around the mean\n",
    "m.local2 <- local2[,1] - mean(local2[,1])    \n",
    "\n",
    "# significance threshold\n",
    "signif <- 0.05 \n",
    "\n",
    "# builds a data quadrant\n",
    "quadrant[mean_income >0 & m.local2>0] <- 4  \n",
    "quadrant[mean_income <0 & m.local2<0] <- 1      \n",
    "quadrant[mean_income <0 & m.local2>0] <- 2\n",
    "quadrant[mean_income >0 & m.local2<0] <- 3\n",
    "quadrant[local2[,5]>signif] <- 0   \n",
    "\n",
    "# plot in r\n",
    "brks <- c(0,1,2,3,4)\n",
    "colors <- c(\"white\",\"blue\",rgb(0,0,1,alpha=0.4),rgb(1,0,0,alpha=0.4),\"red\")\n",
    "plot(airbnb[0], border=\"lightgray\",col=colors[findInterval(quadrant,brks,all.inside=FALSE)])\n",
    "box()\n",
    "legend(\"bottomleft\",legend=c(\"insignificant\",\"low-low\",\"low-high\",\"high-low\",\"high-high\"),\n",
    "       fill=colors,bty=\"n\")"
   ]
  },
  {
   "cell_type": "markdown",
   "metadata": {},
   "source": [
    "### 4.4 Match $LG_I$ with small deviations to local morans' I quadrent"
   ]
  },
  {
   "cell_type": "markdown",
   "metadata": {},
   "source": [
    "*Need to establish on the function of permutation in order to filter out significant polygons*. "
   ]
  },
  {
   "cell_type": "markdown",
   "metadata": {},
   "source": [
    "## 5. Citation"
   ]
  },
  {
   "cell_type": "markdown",
   "metadata": {},
   "source": [
    "1. Luc Anselin, \"Local Spatial Autocorrelation: Univariate Local Statistics\", *Center for Spatial Data Science at University of Chicago.* "
   ]
  }
 ],
 "metadata": {
  "kernelspec": {
   "display_name": "R",
   "language": "R",
   "name": "ir"
  },
  "language_info": {
   "codemirror_mode": "r",
   "file_extension": ".r",
   "mimetype": "text/x-r-source",
   "name": "R",
   "pygments_lexer": "r",
   "version": "3.4.4"
  }
 },
 "nbformat": 4,
 "nbformat_minor": 2
}
